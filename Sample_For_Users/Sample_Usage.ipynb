{
 "cells": [
  {
   "cell_type": "markdown",
   "id": "88c6155b-0f83-4772-a036-ee0cbb2517a0",
   "metadata": {},
   "source": [
    "# LandastToolkit Python library sample code  \n",
    "This notebook is presented to show a sample usage of the LandsatToolkit Python library.  \n",
    "The sample dataset folder used for this example contains two Lansat 8, one Landsat 9, and one Landsat 7 product."
   ]
  },
  {
   "cell_type": "markdown",
   "id": "5bd9a502-bcbf-40de-8a2f-9c0808e963b6",
   "metadata": {},
   "source": [
    "## Importing and initiating the the library\n",
    "#### Like any other Python library, you can add the  LandsatTtoolkit library  \n",
    "#### To initiate the library processor, add the path of your dataset __folder__. For example in our case \"Sample_Dateset\" folder.  \n",
    "#### The library will be added and initiated by running the next two cells."
   ]
  },
  {
   "cell_type": "code",
   "execution_count": null,
   "id": "ca114c23-e706-4eea-8498-af08825b55e9",
   "metadata": {},
   "outputs": [],
   "source": [
    "from LandsatToolkit.data_processor import SatelliteDataProcessor"
   ]
  },
  {
   "cell_type": "code",
   "execution_count": null,
   "id": "f4c985dc-c674-45f7-b8da-b0166fd9e60a",
   "metadata": {},
   "outputs": [],
   "source": [
    "# Initialize the processor\n",
    "data = SatelliteDataProcessor(input_folder=\"./Sample_Dataset\")"
   ]
  },
  {
   "cell_type": "markdown",
   "id": "79436749-c6eb-4ba5-b221-a905604a7fad",
   "metadata": {},
   "source": [
    "## Organize_data function \n",
    "### This feature organizes the images and files in the input folder into a separate folder and names them based on their Landsat product and their scene ID.  \n",
    "#### The input of this function must be the path of the folder processor initiated with and a path for output folders. If the output path is not provided to the function the code creates a folder with the default name \"output_organized_(the date folder created)_(the exact time folder created)\".  \n",
    "#### For example for our sample dataset, this folder was  created and the organized files are like this: \n",
    "  \n",
    "![Image](1.png)  \n",
    "![Image](2.png)  \n",
    "\n",
    "#### For example, inside the folder Landsat8, you find all the products of that:  \n",
    "\n",
    "![Image](3.png)   \n",
    "\n"
   ]
  },
  {
   "cell_type": "code",
   "execution_count": null,
   "id": "d5b4e2f0-a650-4c99-bdb0-59444121fb0b",
   "metadata": {},
   "outputs": [],
   "source": [
    "data.organize_data()"
   ]
  },
  {
   "cell_type": "markdown",
   "id": "36c07596-efea-4dc1-b307-e771770dad27",
   "metadata": {},
   "source": [
    "#### If the output path is simply provided to the function the output products will be created inside that:"
   ]
  },
  {
   "cell_type": "code",
   "execution_count": null,
   "id": "b3fdd080-9307-4f04-acb4-a7247d238c13",
   "metadata": {},
   "outputs": [],
   "source": [
    "# Organize files\n",
    "data.organize_data(output_folder=\"./output/organized\")"
   ]
  },
  {
   "cell_type": "markdown",
   "id": "079e4602-8995-4f2d-853d-1186dc1a9829",
   "metadata": {},
   "source": [
    "## indice_calculator function  \n",
    "\n",
    "### This feature calculates the selected indices for the selected images. The supported indices are NDVI, NDBI, NDWI, and SAVI.\n",
    "#### The inputs of this function are the output path, the selected indices, and the scene_id of the selected image. If the output path is not provided, a default folder with the format \"output_indices_(the date folder created)_(the exact time folder created)\" will be created. If the indices are not selected, all the indices library supports will be calculated. If the scene_id is not defined, for all the images the indices will be calculated if the required bands are available.  \n",
    "\n",
    "#### By running the next cell the selected indices for the selected image will be calculated and if the inputs are not defined the outputs for samples will be like this:  \n",
    "![Image](4.png)    \n",
    "\n",
    "![Image](5.png)    \n",
    "\n",
    "![Image](7.png)    \n",
    "\n"
   ]
  },
  {
   "cell_type": "code",
   "execution_count": null,
   "id": "4ab289aa-327b-4b04-8435-14bf5590be43",
   "metadata": {},
   "outputs": [],
   "source": [
    "# Process scenes\n",
    "data.indice_calculator(output_folder=\"./output/indices\",indices=['NDVI','NDWI'],scene_id='LC08_L2SP_192029_20240716_20240722_02_T1')"
   ]
  },
  {
   "cell_type": "code",
   "execution_count": null,
   "id": "b525b3a4-b459-4232-91ed-a92a6e79e64e",
   "metadata": {},
   "outputs": [],
   "source": [
    "data.indice_calculator()"
   ]
  },
  {
   "cell_type": "markdown",
   "id": "145fc659-d9dc-4ed1-91a5-13825c72d00a",
   "metadata": {},
   "source": [
    "## extract_metadata function  \n",
    "\n",
    "### This feature extracts the metadata  file of each image and generates a more user-friendly format of that as output.\n",
    "#### The input of this function is the output path. If the output path is not provided, a default folder with the format \"output_metadata_(the date folder created)_(the exact time folder created)\" will be created.  \n",
    "\n",
    "#### For our sample dataset, the created folder and the extracted metadata file will be like this:  \n",
    "\n",
    " \n",
    "\n",
    "![Image](8.png)   \n",
    "\n",
    "![Image](9.png)  \n",
    "\n",
    "#### The extracted text files are available in the sample folder."
   ]
  },
  {
   "cell_type": "code",
   "execution_count": null,
   "id": "f98d771c-1efc-4848-926e-6be0a190f010",
   "metadata": {},
   "outputs": [],
   "source": [
    "# Extract metadata\n",
    "data.extract_metadata()"
   ]
  },
  {
   "cell_type": "code",
   "execution_count": null,
   "id": "b140e794-16f3-4a8a-914d-441ccb0e7b4e",
   "metadata": {},
   "outputs": [],
   "source": [
    "# Extract metadata\n",
    "data.extract_metadata(output_folder=\"./output/metadata\")"
   ]
  },
  {
   "cell_type": "markdown",
   "id": "e530f6b1-4d84-48d7-b428-be0969f30a13",
   "metadata": {},
   "source": [
    "## reproject function \n",
    "\n",
    "### This feature reproject the images into a selected projection sytem\n",
    "#### The inputs of this function are the output path and the selected projection system. If the output path is not provided, a default folder with the format \"output_reprojected_(the date folder created)_(the exact time folder created)\" will be created. Selecting a projection system is mandatory and the function will not work without defining that. \n",
    "\n",
    "#### For our sample dataset, the created folder and the reprojected images will be like this:  \n",
    "\n",
    "![Image](10.png)   \n",
    "\n",
    "![Image](11.png)"
   ]
  },
  {
   "cell_type": "code",
   "execution_count": null,
   "id": "e953d92e-d696-4d3b-a681-08b4bf3e3ccf",
   "metadata": {},
   "outputs": [],
   "source": [
    "data.reproject(output_folder=\"./output/reprojected\", target_crs=\"EPSG:32633\")"
   ]
  },
  {
   "cell_type": "code",
   "execution_count": null,
   "id": "0d98586e-ab41-4369-b976-04b73530cf01",
   "metadata": {},
   "outputs": [],
   "source": [
    "data.reproject(target_crs=\"EPSG:32633\")"
   ]
  },
  {
   "cell_type": "markdown",
   "id": "cbf22740-6ee6-4ab7-92fb-8cbb08be0afb",
   "metadata": {},
   "source": [
    "## merge_bands function   \n",
    "\n",
    "### This feature stakes the selected bands and generates a multi-dimensional matrix as output.\n",
    "#### The inputs of this function are the output path, the scene_id of the selected images, and. If the output path is not provided, a default folder with the format \"output_merged_(the date folder created)_(the exact time folder created)\" will be created. If the bands are not selected, all bands will be merged by default.\n",
    "\n",
    "#### For our sample dataset, the created folder and the merged images will be like this:  \n",
    "\n",
    "![Image](12.png)   \n",
    "\n",
    "![Image](13.png)"
   ]
  },
  {
   "cell_type": "code",
   "execution_count": null,
   "id": "d83479dc-9cf6-4102-bd79-bba62669cc38",
   "metadata": {},
   "outputs": [],
   "source": [
    "data.merge_bands()"
   ]
  },
  {
   "cell_type": "code",
   "execution_count": null,
   "id": "413a2e5d-f32f-4a00-bd82-eae6921c9183",
   "metadata": {},
   "outputs": [],
   "source": [
    "data.merge_bands(\n",
    "    output_folder=\"./output/merged\",\n",
    "    scene_id=\"LC08_L2SP_193028_20240113_20240123_02_T1\",\n",
    "    bands=[\"B1\", \"B2\", \"B3\"]\n",
    ")\n"
   ]
  },
  {
   "cell_type": "code",
   "execution_count": null,
   "id": "f4be8100-e548-4383-bc50-0866ec6cd490",
   "metadata": {},
   "outputs": [],
   "source": [
    "data.merge_bands(\n",
    "    scene_id=\"LC08_L2SP_193028_20240113_20240123_02_T1\"\n",
    ")"
   ]
  },
  {
   "cell_type": "code",
   "execution_count": null,
   "id": "696f429f-e6a9-4fe9-881d-70fa219a1f11",
   "metadata": {},
   "outputs": [],
   "source": [
    "# Case 4: Merge specific bands for all scenes\n",
    "data.merge_bands(bands=[\"B4\", \"B5\", \"B6\"])"
   ]
  },
  {
   "cell_type": "markdown",
   "id": "41736bbf-55f2-4cb6-9b0f-5a8387110ee9",
   "metadata": {},
   "source": [
    "## show_scenes function   \n",
    "\n",
    "### This feature prints all the scene_id of the images that are available in the input folder.\n",
    "#### The input of this function is the path of the folder.\n",
    "\n",
    "#### For our sample dataset,the images are like this:  \n"
   ]
  },
  {
   "cell_type": "code",
   "execution_count": null,
   "id": "b5cca4bc-8f00-4136-bec1-4993c42e2956",
   "metadata": {},
   "outputs": [],
   "source": [
    "data.show_scenes()"
   ]
  },
  {
   "cell_type": "code",
   "execution_count": null,
   "id": "9d4b65de-fad9-4357-8f8e-0b2263c0acfe",
   "metadata": {},
   "outputs": [],
   "source": []
  }
 ],
 "metadata": {
  "kernelspec": {
   "display_name": "Python 3 (ipykernel)",
   "language": "python",
   "name": "python3"
  },
  "language_info": {
   "codemirror_mode": {
    "name": "ipython",
    "version": 3
   },
   "file_extension": ".py",
   "mimetype": "text/x-python",
   "name": "python",
   "nbconvert_exporter": "python",
   "pygments_lexer": "ipython3",
   "version": "3.10.15"
  }
 },
 "nbformat": 4,
 "nbformat_minor": 5
}
